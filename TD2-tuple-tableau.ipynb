{
 "cells": [
  {
   "cell_type": "markdown",
   "metadata": {},
   "source": [
    "<b><u>Exercice 1</u></b> :\n",
    "\n",
    "Pour les questions 1, 2 et 3, on considère le script, écrit en Python, suivant :\n",
    "````Python\n",
    "premiers = [2,3,5,7]\n",
    "couple = (7,4)\n",
    "i=3\n",
    "a = premiers[i]\n",
    "````"
   ]
  },
  {
   "cell_type": "markdown",
   "metadata": {},
   "source": [
    "1. Quelle est la valeur de premiers[2] ?\n",
    "\n",
    "    a. 1        \n",
    "    b. 5      \n",
    "    c. 7           \n",
    "    d. Aucune car l’expression n’est pas valide.\n"
   ]
  },
  {
   "cell_type": "raw",
   "metadata": {},
   "source": []
  },
  {
   "cell_type": "code",
   "execution_count": null,
   "metadata": {},
   "outputs": [],
   "source": []
  },
  {
   "cell_type": "markdown",
   "metadata": {},
   "source": [
    "2. Après l’exécution de couple.append(1), quelle sera la valeur de couple ?\n",
    "\n",
    "     a. (7,4,4)           \n",
    "     b. (7,4,7)        \n",
    "     c. (7,4,1)         \n",
    "     d. (1,7,4)\n",
    "    \n",
    "     e. La valeur de couple ne change pas car l’exécution provoque une erreur."
   ]
  },
  {
   "cell_type": "raw",
   "metadata": {},
   "source": []
  },
  {
   "cell_type": "code",
   "execution_count": null,
   "metadata": {},
   "outputs": [],
   "source": []
  },
  {
   "cell_type": "markdown",
   "metadata": {},
   "source": [
    "3. Après l’instruction premiers[3]=11, quelle sera la valeur de premiers ?\n",
    "\n",
    "     a. [2,3,5,7,11]      \n",
    "     b. [2,3,5,11]      \n",
    "     c. [2,11,5,7]          \n",
    "     d. [2,3,11,7]"
   ]
  },
  {
   "cell_type": "raw",
   "metadata": {},
   "source": []
  },
  {
   "cell_type": "code",
   "execution_count": null,
   "metadata": {},
   "outputs": [],
   "source": []
  },
  {
   "cell_type": "markdown",
   "metadata": {},
   "source": [
    "4. On considère l’expression :\n",
    "````Python\n",
    "a=0, 2+0, 3==5,5\n",
    "````\n",
    "Quelle est la valeur de a ?\n",
    "    \n",
    "    a. False, c’est lié à la représentation en flottants.\n",
    "    \n",
    "    b. True, c’est évident, cela revient à écrire a=(0,2+0,3==0,5), donc a=True.\n",
    "    \n",
    "    c. (0,2, False,5), a est du type tuple.\n",
    "    \n",
    "    d. L’écriture de l’expression provoque une erreur."
   ]
  },
  {
   "cell_type": "raw",
   "metadata": {},
   "source": []
  },
  {
   "cell_type": "code",
   "execution_count": null,
   "metadata": {},
   "outputs": [],
   "source": []
  },
  {
   "cell_type": "markdown",
   "metadata": {},
   "source": [
    "5. Après l’instruction :\n",
    "````Python\n",
    "tab=[[i,i+1] for i in range(2)]\n",
    "````\n",
    "la valeur de tab est :\n",
    "    \n",
    "    a. [[0,1],[1,2]]        \n",
    "    b. [[1,2],[2,3]]       \n",
    "    c. [0,1,1,2]          \n",
    "    d. [1,2,2,3] "
   ]
  },
  {
   "cell_type": "raw",
   "metadata": {},
   "source": []
  },
  {
   "cell_type": "code",
   "execution_count": null,
   "metadata": {},
   "outputs": [],
   "source": []
  },
  {
   "cell_type": "markdown",
   "metadata": {},
   "source": [
    "6. On construit une matrice avec le code suivant :\n",
    "````Python\n",
    "`matrice = [3*[0] for i in range(3)]\n",
    "for i in range(3):\n",
    "     matrice[i][i]=i+1\n",
    "     matrice[0][i]=matrice[0][i]+i+1\n",
    "     matrice[i][2]=matrice[i][2]+i+1\n",
    "````\n",
    "Quel est résultat obtenu ?\n",
    "    \n",
    "  a.  [[1,2,4],[0,2,2],[0,0,6]]\n",
    "  b.  [[2,2,4],[0,2,2],[0,0,4]]\n",
    "  c.  [[1,2,4],[0,2,4],[0,0,6]]\n",
    "  d. [[2,2,4],[0,2,2],[0,0,6]]"
   ]
  },
  {
   "cell_type": "raw",
   "metadata": {},
   "source": []
  },
  {
   "cell_type": "code",
   "execution_count": null,
   "metadata": {},
   "outputs": [],
   "source": []
  },
  {
   "cell_type": "markdown",
   "metadata": {},
   "source": [
    "7. On considère le script suivant écrit en Python.\n",
    "````Python\n",
    "def f():\n",
    "     tab1.append(2)\n",
    "     tab2=tab1+[3]\n",
    " tab1=[0,1]\n",
    " tab2=[0,1]\n",
    "f( )\n",
    "````\n",
    "    \n",
    "    Quel résultat obtient-on après l’appel de f() ?\n",
    "    \n",
    "    a. tab1 a pour valeur [0,1,2] et tab2 a pour valeur [0,1,2,3].\n",
    "    \n",
    "    b. tab1 a pour valeur [0,1,2] et tab2 a pour valeur [0,1,3].\n",
    "    \n",
    "    c. tab1 a pour valeur [0,1,2] et tab2 a pour valeur [0,1].\n",
    "   \n",
    "   d. tab1 a pour valeur [0,1] et tab2 a pour valeur [0,1]."
   ]
  },
  {
   "cell_type": "raw",
   "metadata": {},
   "source": []
  },
  {
   "cell_type": "code",
   "execution_count": null,
   "metadata": {},
   "outputs": [],
   "source": []
  },
  {
   "cell_type": "markdown",
   "metadata": {},
   "source": [
    "<b><u>Exercice 2</u></b> :\n",
    "Construire des tableaux en compréhension\n",
    " Les questions suivantes sont indépendantes.\n",
    "1. Parmi les extraits de programme suivants, lesquels permettent de construire le tableau des cinq premiers nombres impairs ?\n",
    "\n",
    "a. \n",
    "````Python\n",
    "Impairs=[1,3,5,7,9]\n",
    "````\n",
    "b.\n",
    "````Python\n",
    "Impairs=[]\n",
    "for n in range(5):\n",
    "    Impairs.append(2*n+1)\n",
    "````\n",
    "c.\n",
    "````Python\n",
    "Impairs=[2*n+1 for n in range (5)]\n",
    "````\n",
    "d. \n",
    "````Python\n",
    "Impairs=[n for n in range(1,11,2)]\n",
    "````\n",
    "e. \n",
    "````Python\n",
    "Impairs=[]\n",
    "n=0\n",
    "while len(Impairs)!=5:\n",
    "    if n%2==1:\n",
    "        Impairs.append(n)\n",
    "    n=n+1\n",
    "````"
   ]
  },
  {
   "cell_type": "code",
   "execution_count": null,
   "metadata": {},
   "outputs": [],
   "source": []
  },
  {
   "cell_type": "code",
   "execution_count": null,
   "metadata": {},
   "outputs": [],
   "source": []
  },
  {
   "cell_type": "code",
   "execution_count": null,
   "metadata": {},
   "outputs": [],
   "source": []
  },
  {
   "cell_type": "code",
   "execution_count": null,
   "metadata": {},
   "outputs": [],
   "source": []
  },
  {
   "cell_type": "code",
   "execution_count": null,
   "metadata": {},
   "outputs": [],
   "source": []
  },
  {
   "cell_type": "markdown",
   "metadata": {},
   "source": [
    "2. Donner trois programmes permettant de construire la liste des 25 premiers nombres impairs."
   ]
  },
  {
   "cell_type": "code",
   "execution_count": null,
   "metadata": {},
   "outputs": [],
   "source": []
  },
  {
   "cell_type": "code",
   "execution_count": null,
   "metadata": {},
   "outputs": [],
   "source": []
  },
  {
   "cell_type": "code",
   "execution_count": null,
   "metadata": {},
   "outputs": [],
   "source": []
  },
  {
   "cell_type": "markdown",
   "metadata": {},
   "source": [
    "3.a. Quelle est la valeur de couples à la fin de l’exécution du programme suivant ?\n",
    "````Python\n",
    "lettres = [’a’,’b’,’c’]\n",
    "nombre = [1,5]\n",
    "couples=[(c,n) for c in lettres for n in nombres]\n",
    "````"
   ]
  },
  {
   "cell_type": "raw",
   "metadata": {},
   "source": []
  },
  {
   "cell_type": "code",
   "execution_count": null,
   "metadata": {},
   "outputs": [],
   "source": []
  },
  {
   "cell_type": "markdown",
   "metadata": {},
   "source": [
    "3.b. Proposer un programme qui permet de construire    \n",
    "      couples en  utilisant des boucles bornées"
   ]
  },
  {
   "cell_type": "code",
   "execution_count": null,
   "metadata": {},
   "outputs": [],
   "source": []
  }
 ],
 "metadata": {
  "kernelspec": {
   "display_name": "Python 3",
   "language": "python",
   "name": "python3"
  },
  "language_info": {
   "codemirror_mode": {
    "name": "ipython",
    "version": 3
   },
   "file_extension": ".py",
   "mimetype": "text/x-python",
   "name": "python",
   "nbconvert_exporter": "python",
   "pygments_lexer": "ipython3",
   "version": "3.7.3"
  }
 },
 "nbformat": 4,
 "nbformat_minor": 4
}
